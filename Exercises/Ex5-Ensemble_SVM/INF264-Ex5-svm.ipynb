{
 "cells": [
  {
   "cell_type": "markdown",
   "metadata": {},
   "source": [
    "# Linear SVM"
   ]
  },
  {
   "cell_type": "code",
   "execution_count": null,
   "metadata": {},
   "outputs": [],
   "source": [
    "import numpy as np\n",
    "import pandas as pd\n",
    "import matplotlib.pyplot as plt\n",
    "from sklearn.model_selection import train_test_split\n",
    "from sklearn.svm import SVC\n",
    "from sklearn.metrics import accuracy_score\n",
    "\n",
    "# Fixing the seed for reproducibility:\n",
    "seed = 264"
   ]
  },
  {
   "cell_type": "markdown",
   "metadata": {},
   "source": [
    "## Using a linearly separable dataset\n",
    "\n",
    "### Load and split dataset"
   ]
  },
  {
   "cell_type": "code",
   "execution_count": null,
   "metadata": {},
   "outputs": [],
   "source": [
    "dataset = pd.read_csv(\"./svm_data_1.csv\", header=None).to_numpy()\n",
    "X = dataset[:,:-1].astype(float)\n",
    "Y = dataset[:,-1].astype(int)"
   ]
  },
  {
   "cell_type": "markdown",
   "metadata": {},
   "source": [
    "### Visualize dataset"
   ]
  },
  {
   "cell_type": "code",
   "execution_count": null,
   "metadata": {},
   "outputs": [],
   "source": [
    "#TODO!"
   ]
  },
  {
   "cell_type": "markdown",
   "metadata": {},
   "source": [
    "### Train a simple SVC"
   ]
  },
  {
   "cell_type": "code",
   "execution_count": null,
   "metadata": {},
   "outputs": [],
   "source": [
    "#TODO!"
   ]
  },
  {
   "cell_type": "markdown",
   "metadata": {},
   "source": [
    "### Visualize the hyperplanes"
   ]
  },
  {
   "cell_type": "markdown",
   "metadata": {},
   "source": [
    "Recall that if the feature space is a plane ($\\mathcal{R}^2$), then an hyperplane in the feature space is a line. \n",
    "\n",
    "SVMs can be used to classify datapoints into 2 different classes. In the lecture, we introduced the maximum margin hyperplane as the separator of those 2 classes, defined by the following equation \n",
    "$$\\mathbf{w}^T\\mathbf{x} + b = 0, \\qquad \\text{ with } \\mathbf{w}, \\mathbf{x} \\in \\mathcal{R}^2 \\text{ and } b \\in \\mathcal{R} $$\n",
    "\n",
    "where $\\mathbf{x}$ is a datapoint in the feature space while $\\mathbf{w}$ and $b$ are estimated by the SVM model. In sklearn, a trained SVC model ```model``` has 2 attributes: \n",
    "- ```model.coef_``` representing $\\mathbf{w}$\n",
    "- ```model.intercept_``` representing $b$\n",
    "\n",
    "One way to draw the separator line in our feature space, is to express $x_2$ as a linear function of $x_1$, that is to say $x_2 = a_{sep} \\times x_1 + b_{sep}$ where $ a_{sep}$ and $ b_{sep}$ are solutions of the maximum margin hyperplane equation. More specifically:\n",
    "\n",
    "\\begin{align*}\n",
    "    \\mathbf{w}^T\\mathbf{x} + b = 0  &\\iff w_1 x_1 + w_2 x_2 + b = 0 \\\\\n",
    "    &\\iff x_2 = -\\frac{w_1}{w_2} x_1 - \\frac{b}{w_2} \\\\\n",
    "    &\\iff x_2 = a_{sep} x_1 + b_{sep} \\qquad \\text{ with } a_{sep} = -\\frac{w_1}{w_2}  \\text{ and } b_{sep} = - \\frac{b}{w_2}\n",
    "\\end{align*}\n",
    "\n",
    "In the lecture, we also introduced 2 other parallel hyperplanes, the positive and the negative hyperplanes, defined as follows:\n",
    "\n",
    "$$\\mathbf{w}^T\\mathbf{x} + b = \\pm 1, \\qquad \\text{ with } \\mathbf{w}, \\mathbf{x} \\in \\mathcal{R}^2 \\text{ and } b \\in \\mathcal{R} $$\n",
    "\n",
    "And showed that the distance between them $D$ (called margin) depends only on $|| \\mathbf{w}||$ as follows:\n",
    "\n",
    "$$ D = \\frac{2}{||\\mathbf{w}||}$$\n",
    "\n",
    "We can also draw lines representing the positive and the negative hyperplane similarly to what we did with the maximum margin hyperplane:\n",
    "\n",
    "\\begin{align*}\n",
    "    \\mathbf{w}^T\\mathbf{x} + b = \\pm 1  &\\iff w_1 x_1 + w_2 x_2 + b = \\pm 1 \\\\\n",
    "    &\\iff x_2 = -\\frac{w_1}{w_2} x_1 - \\frac{b \\pm 1}{w_2} \\\\\n",
    "    &\\iff x_2 = a_{sep} x_1 + b_{sep} \\qquad \\text{ with } a_{sep} = -\\frac{w_1}{w_2}  \\text{ and } b_{sep} = - \\frac{b \\pm 1 }{w_2}\n",
    "\\end{align*}"
   ]
  },
  {
   "cell_type": "code",
   "execution_count": null,
   "metadata": {},
   "outputs": [],
   "source": [
    "#TODO!"
   ]
  },
  {
   "cell_type": "markdown",
   "metadata": {},
   "source": [
    "## Using an “almost” linearly separable dataset\n",
    "\n",
    "### Load and split dataset"
   ]
  },
  {
   "cell_type": "code",
   "execution_count": null,
   "metadata": {},
   "outputs": [],
   "source": [
    "#TODO!"
   ]
  },
  {
   "cell_type": "markdown",
   "metadata": {},
   "source": [
    "### Visualize dataset"
   ]
  },
  {
   "cell_type": "code",
   "execution_count": null,
   "metadata": {},
   "outputs": [],
   "source": [
    "#TODO!"
   ]
  },
  {
   "cell_type": "markdown",
   "metadata": {},
   "source": [
    "### Train different SVC models using different values of C"
   ]
  },
  {
   "cell_type": "code",
   "execution_count": null,
   "metadata": {},
   "outputs": [],
   "source": [
    "#TODO!"
   ]
  },
  {
   "cell_type": "markdown",
   "metadata": {},
   "source": [
    "### Model selection and evaluation"
   ]
  },
  {
   "cell_type": "code",
   "execution_count": null,
   "metadata": {},
   "outputs": [],
   "source": [
    "#TODO!"
   ]
  },
  {
   "cell_type": "markdown",
   "metadata": {},
   "source": [
    "### Visualize the hyperplanes"
   ]
  },
  {
   "cell_type": "code",
   "execution_count": null,
   "metadata": {},
   "outputs": [],
   "source": [
    "#TODO!"
   ]
  }
 ],
 "metadata": {
  "kernelspec": {
   "display_name": "Python 3.8.13 ('nglm-env')",
   "language": "python",
   "name": "python3"
  },
  "language_info": {
   "codemirror_mode": {
    "name": "ipython",
    "version": 3
   },
   "file_extension": ".py",
   "mimetype": "text/x-python",
   "name": "python",
   "nbconvert_exporter": "python",
   "pygments_lexer": "ipython3",
   "version": "3.8.13"
  },
  "orig_nbformat": 4,
  "vscode": {
   "interpreter": {
    "hash": "71c2cb666ff353b4e7b5c350d66179fa0af5c84ce239ad9fa105d94543f3ad59"
   }
  }
 },
 "nbformat": 4,
 "nbformat_minor": 2
}
