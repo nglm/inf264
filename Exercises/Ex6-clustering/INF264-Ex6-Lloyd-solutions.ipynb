{
 "cells": [
  {
   "cell_type": "markdown",
   "metadata": {},
   "source": [
    "# Lloyd's algorithm and elbow method"
   ]
  },
  {
   "cell_type": "code",
   "execution_count": 1,
   "metadata": {},
   "outputs": [],
   "source": [
    "import numpy as np\n",
    "from sklearn.datasets import load_iris\n",
    "from kneed import KneeLocator\n",
    "from copy import deepcopy"
   ]
  },
  {
   "cell_type": "markdown",
   "metadata": {},
   "source": [
    "### Implementing Lloyd's algorithm"
   ]
  },
  {
   "cell_type": "code",
   "execution_count": 2,
   "metadata": {},
   "outputs": [],
   "source": [
    "def initialize_centroids(X, k):\n",
    "    \"\"\"line 2: select k centroids from observations X\"\"\"\n",
    "    # Randomly select k indices for X without replacement \n",
    "    rng = np.random.default_rng()\n",
    "    idx = rng.choice(range(len(X)), size=k, replace=False)\n",
    "    # Randomly select k samples from X without replacement \n",
    "    centroids = X[idx]\n",
    "    if k == 1:\n",
    "        centroids = centroids.reshape(1, -1)\n",
    "    return centroids\n",
    "    \n",
    "def partition(X, centroids):\n",
    "    \"\"\"lines 3-6 and 9-10: partition X into clusters, and compute its cost\"\"\"\n",
    "    # initialize empty clusters for each centroid\n",
    "    clusters = [[] for _ in range(len(centroids))]\n",
    "    cost = 0\n",
    "    for xi in X:\n",
    "        # Compute the distance from xi to each centroid\n",
    "        dist_to_clusters = [np.linalg.norm(xi - c) for c in centroids]\n",
    "        # Find clostest centroid\n",
    "        closest_cluster = np.argmin(dist_to_clusters)\n",
    "        # Append xi to the corresponding cluster\n",
    "        clusters[closest_cluster].append(xi)\n",
    "        # Update cost of partition\n",
    "        cost += dist_to_clusters[closest_cluster]\n",
    "    cost /= len(X)\n",
    "    return clusters, cost\n",
    "\n",
    "def update_centroids(clusters):\n",
    "    \"\"\"line 8: update centroids according to current partition\"\"\"\n",
    "    centroids = [np.mean(c, axis=0) for c in clusters]\n",
    "    return centroids"
   ]
  },
  {
   "cell_type": "code",
   "execution_count": 3,
   "metadata": {},
   "outputs": [],
   "source": [
    "def lloyd(X, k, restarts=10, precision=0):\n",
    "    \"\"\"Implementation of Lloyd's algorithm\"\"\"\n",
    "    \n",
    "    best_cost = np.inf\n",
    "    \n",
    "    # Try with several random initializations\n",
    "    for r in range(restarts):\n",
    "        \n",
    "        # Condition defining whether we should keep looping\n",
    "        newer_is_better = True\n",
    "        \n",
    "        # Randomly initialize centroids\n",
    "        prev_centroids = initialize_centroids(X, k)\n",
    "        # Create first partition\n",
    "        prev_clusters, prev_cost = partition(X, prev_centroids)\n",
    "        \n",
    "        # Optional exception: case k == 1, no need to restart\n",
    "        if k == 1:\n",
    "            best_centroids = np.copy(prev_centroids)\n",
    "            best_clusters = deepcopy(prev_clusters)\n",
    "            best_cost = prev_cost\n",
    "            break\n",
    "            \n",
    "        while newer_is_better:\n",
    "            \n",
    "            # Update centroids\n",
    "            new_centroids = update_centroids(prev_clusters)\n",
    "            # Update partition and cost\n",
    "            new_clusters, new_cost = partition(X, new_centroids)\n",
    "            \n",
    "            # Is the new clustering better than the previous one?\n",
    "            newer_is_better = (abs(prev_cost - new_cost) > precision)\n",
    "            \n",
    "            if newer_is_better:\n",
    "                # Keep looping and prepare next iteration\n",
    "                prev_centroids = np.copy(new_centroids)\n",
    "                prev_clusters = deepcopy(new_clusters)\n",
    "                prev_cost = new_cost\n",
    "            else:\n",
    "                # Stop looping and go back to previous state \n",
    "                new_centroids = np.copy(prev_centroids)\n",
    "                new_clusters = deepcopy(prev_clusters)\n",
    "                new_cost = prev_cost\n",
    "                \n",
    "        # Keep the best clustering of all restarts\n",
    "        if new_cost < best_cost:\n",
    "            best_centroids = new_centroids\n",
    "            best_clusters = new_clusters\n",
    "            best_cost = new_cost\n",
    "            print(\"New best cost: %.8f on restart %d\" %(best_cost, r))\n",
    "            \n",
    "    return best_clusters, best_centroids, best_cost"
   ]
  },
  {
   "cell_type": "markdown",
   "metadata": {},
   "source": [
    "### Load dataset"
   ]
  },
  {
   "cell_type": "code",
   "execution_count": 4,
   "metadata": {},
   "outputs": [],
   "source": [
    "iris = load_iris()   \n",
    "X = iris.data          \n",
    "Y = iris.target       "
   ]
  },
  {
   "cell_type": "markdown",
   "metadata": {},
   "source": [
    "### Training different Kmeans models"
   ]
  },
  {
   "cell_type": "code",
   "execution_count": 5,
   "metadata": {},
   "outputs": [
    {
     "name": "stdout",
     "output_type": "stream",
     "text": [
      " ================= k = 1  ================= \n",
      " ================= k = 2  ================= \n",
      "New best cost: 0.85557777 on restart 0\n",
      " ================= k = 3  ================= \n",
      "New best cost: 0.64803049 on restart 0\n",
      " ================= k = 4  ================= \n",
      "New best cost: 0.56370703 on restart 0\n",
      "New best cost: 0.56107765 on restart 1\n",
      "New best cost: 0.55776565 on restart 3\n",
      " ================= k = 5  ================= \n",
      "New best cost: 0.58951223 on restart 0\n",
      "New best cost: 0.51518685 on restart 1\n",
      "New best cost: 0.51000000 on restart 2\n",
      "New best cost: 0.50877641 on restart 3\n",
      " ================= k = 6  ================= \n",
      "New best cost: 0.49771854 on restart 0\n",
      "New best cost: 0.49130517 on restart 1\n",
      "New best cost: 0.46707340 on restart 3\n",
      " ================= k = 7  ================= \n",
      "New best cost: 0.47652816 on restart 0\n",
      "New best cost: 0.46518946 on restart 4\n",
      "New best cost: 0.43896290 on restart 5\n",
      " ================= k = 8  ================= \n",
      "New best cost: 0.44772897 on restart 0\n",
      "New best cost: 0.44452507 on restart 1\n",
      "New best cost: 0.42182061 on restart 3\n",
      "New best cost: 0.42122433 on restart 4\n",
      "New best cost: 0.41428640 on restart 9\n",
      " ================= k = 9  ================= \n",
      "New best cost: 0.40972507 on restart 0\n",
      "New best cost: 0.40390635 on restart 1\n",
      " ================= k = 10  ================= \n",
      "New best cost: 0.48401115 on restart 0\n",
      "New best cost: 0.39931930 on restart 1\n",
      "New best cost: 0.38581170 on restart 2\n",
      " ================= k = 11  ================= \n",
      "New best cost: 0.37644858 on restart 0\n",
      "New best cost: 0.37219436 on restart 7\n",
      "New best cost: 0.37004166 on restart 8\n",
      " ================= k = 12  ================= \n",
      "New best cost: 0.42397283 on restart 0\n",
      "New best cost: 0.36766034 on restart 1\n",
      "New best cost: 0.36528954 on restart 8\n",
      " ================= k = 13  ================= \n",
      "New best cost: 0.38655703 on restart 0\n",
      "New best cost: 0.36324286 on restart 1\n",
      "New best cost: 0.35533010 on restart 7\n",
      " ================= k = 14  ================= \n",
      "New best cost: 0.35249294 on restart 0\n",
      "New best cost: 0.35237918 on restart 2\n",
      "New best cost: 0.35201536 on restart 6\n",
      "New best cost: 0.33807083 on restart 8\n"
     ]
    }
   ],
   "source": [
    "k_values = [i for i in range(1, 15)]\n",
    "costs = []\n",
    "\n",
    "for k in k_values:\n",
    "    print(' ================= k =',k,' ================= ' )\n",
    "    clusters, centroids, cost = lloyd(X, k)\n",
    "    costs.append(cost)"
   ]
  },
  {
   "cell_type": "markdown",
   "metadata": {},
   "source": [
    "### Selecting the best model using the elbow method"
   ]
  },
  {
   "cell_type": "code",
   "execution_count": 6,
   "metadata": {},
   "outputs": [
    {
     "name": "stdout",
     "output_type": "stream",
     "text": [
      "K selected using the elbow method:  3\n",
      "Real number of clusters:            3\n"
     ]
    },
    {
     "data": {
      "image/png": "[encoded data removed]",
      "text/plain": [
       "<Figure size 432x432 with 1 Axes>"
      ]
     },
     "metadata": {
      "needs_background": "light"
     },
     "output_type": "display_data"
    }
   ],
   "source": [
    "knee = KneeLocator(k_values, costs, curve=\"convex\", direction=\"decreasing\")\n",
    "knee.plot_knee()\n",
    "k_best = knee.elbow\n",
    "print(\"K selected using the elbow method: \", k_best)\n",
    "print(\"Real number of clusters:           \", len(np.unique(Y)))"
   ]
  }
 ],
 "metadata": {
  "kernelspec": {
   "display_name": "Python 3.8.13 ('nglm-env')",
   "language": "python",
   "name": "python3"
  },
  "language_info": {
   "codemirror_mode": {
    "name": "ipython",
    "version": 3
   },
   "file_extension": ".py",
   "mimetype": "text/x-python",
   "name": "python",
   "nbconvert_exporter": "python",
   "pygments_lexer": "ipython3",
   "version": "3.8.13"
  },
  "orig_nbformat": 4,
  "vscode": {
   "interpreter": {
    "hash": "71c2cb666ff353b4e7b5c350d66179fa0af5c84ce239ad9fa105d94543f3ad59"
   }
  }
 },
 "nbformat": 4,
 "nbformat_minor": 2
}
