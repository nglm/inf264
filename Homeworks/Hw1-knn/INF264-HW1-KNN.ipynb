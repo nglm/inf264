{
 "cells": [
  {
   "cell_type": "markdown",
   "metadata": {},
   "source": [
    "# $k$-NN for a classification problem on the Iris dataset\n",
    "\n",
    "In this notebook we will train a $k$-nn classifier on [iris](https://scikit-learn.org/stable/modules/generated/sklearn.datasets.load_iris.html#sklearn.datasets.load_iris) data using the class [KNeighborsClassifier](https://scikit-learn.org/stable/modules/generated/sklearn.neighbors.KNeighborsClassifier.html#sklearn-neighbors-kneighborsclassifier) from the python library [scikit-learn](https://scikit-learn.org/stable/index.html) \n",
    "\n",
    "Since it is the first exercice, instructions will be as detailed as possible. But it won't always be the case! \n",
    "\n",
    "You can choose to:\n",
    "- Start from scratch if you feel more comfortable with your own code\n",
    "- Code mostly on your own and from time to time get inspired by (aka copy/paste :)) this notebook (recommended, especially for the plotting parts)\n",
    "- Try to fit exactly to this notebook. If your not familiar at all with python it could be a good option but otherwise try at least to think about how you would do without any help. "
   ]
  },
  {
   "cell_type": "code",
   "execution_count": null,
   "metadata": {},
   "outputs": [],
   "source": [
    "import numpy as np\n",
    "import matplotlib.pyplot as plt\n",
    "from matplotlib.colors import ListedColormap\n",
    "from sklearn import neighbors, datasets, model_selection"
   ]
  },
  {
   "cell_type": "markdown",
   "metadata": {},
   "source": [
    "### Iris dataset\n",
    "\n",
    "- Load iris data set using [datasets.load_iris()](https://scikit-learn.org/stable/modules/generated/sklearn.datasets.load_iris.html#sklearn.datasets.load_iris)\n",
    "- Use [model_selection.train_test_split()](https://scikit-learn.org/stable/modules/generated/sklearn.model_selection.train_test_split.html#sklearn-model-selection-train-test-split) to split your dataset into 2 datasets: a training one and a testing one. To split your dataset into 3 simply call this function twice, first to separate trainind data set from validation and test and then to separate validation from test\n"
   ]
  },
  {
   "cell_type": "code",
   "execution_count": null,
   "metadata": {
    "tags": []
   },
   "outputs": [],
   "source": [
    "iris = datasets.load_iris()   # Load Iris dataset\n",
    "X = iris.data[:, :2]          # Store the first 2 features    \n",
    "Y = iris.target               # Store the labels\n",
    "\n",
    "\n",
    "seed = 123                    # Fix random seed for reproducibility\n",
    "# Shuffle and split the data into train and a \n",
    "# concatenation of validation and test sets with a ratio of 0.7/0.3:\n",
    "X_train, X_val_test, Y_train, Y_val_test = model_selection.train_test_split(\n",
    "    ... #TODO!\n",
    ")\n",
    "\n",
    "# Shuffle and split the data into validation and test sets with a ratio of 0.5/0.5:\n",
    "X_val, X_test, Y_val, Y_test = ... #TODO!\n",
    "\n",
    "# Store number of datapoints in each dataset:\n",
    "N_train = len(Y_train)\n",
    "N_val = ... #TODO!\n",
    "N_test = ... #TODO!\n",
    "print(\"Datapoints used for training:   \", N_train)\n",
    "print(\"Datapoints used for validation: \", N_val)\n",
    "print(\"Datapoints used for testing :   \", N_test)\n"
   ]
  },
  {
   "cell_type": "markdown",
   "metadata": {},
   "source": [
    "### Plots parameters\n",
    "\n",
    "Here is an example of colors you can use for the 3 classes with \n",
    "- a light version for the validation points, testing points, and decision boundaries\n",
    "- a bold version for the training points"
   ]
  },
  {
   "cell_type": "code",
   "execution_count": null,
   "metadata": {},
   "outputs": [],
   "source": [
    "### Plot parameters:\n",
    "# Light colors for decision boundaries plots:\n",
    "cmap_light = ListedColormap(['orange', 'cyan', 'cornflowerblue'])\n",
    "cmap_bold = ListedColormap(['red', 'darkcyan', 'darkblue'])"
   ]
  },
  {
   "cell_type": "markdown",
   "metadata": {},
   "source": [
    "### Main functions\n",
    "\n",
    "**plot_iris**\n",
    "- To plot a scatter plot of y VS x in python we use [plt.scatter()](https://matplotlib.org/3.3.0/api/_as_gen/matplotlib.pyplot.scatter.html#matplotlib-pyplot-scatter)\n",
    "\n",
    "**knn_on_iris**\n",
    "- To create an instance of the KNeighborsClassifier class use the constructor [neighbors.KNeighborsClassifier()](https://scikit-learn.org/stable/modules/generated/sklearn.neighbors.KNeighborsClassifier.html#sklearn-neighbors-kneighborsclassifier)\n",
    "- To train your instance of KNeighborsClassifier use [KNeighborsClassifier.fit()](https://scikit-learn.org/stable/modules/generated/sklearn.neighbors.KNeighborsClassifier.html#sklearn.neighbors.KNeighborsClassifier.fit)\n",
    "- Once trained you can use [KNeighborsClassifier.predict()](https://scikit-learn.org/stable/modules/generated/sklearn.neighbors.KNeighborsClassifier.html#sklearn.neighbors.KNeighborsClassifier.predict) to predict the iris class of a datapoint or of a gridpoint\n",
    "\n",
    "**draw_knn_boundaries**\n",
    "- To plot a color plot we use [pcolormesh()](https://matplotlib.org/api/_as_gen/matplotlib.pyplot.pcolormesh.html#matplotlib-pyplot-pcolormesh). To draw the decision boundaries, the idea is to create a meshgrid and to let the knn decides to which color each gridpoint belongs "
   ]
  },
  {
   "cell_type": "code",
   "execution_count": null,
   "metadata": {},
   "outputs": [],
   "source": [
    "def plot_iris(\n",
    "    X_train,\n",
    "    Y_train,\n",
    "    X_val_test,\n",
    "    Y_val_test,\n",
    "):\n",
    "    \"\"\"\n",
    "    Scatter plots of training and testing iris datapoints\n",
    "\n",
    "    Colors represent specific iris species \n",
    "    Validation or test points appear in light colors\n",
    "    Training points appear in bold colors\n",
    "    \"\"\"\n",
    "    # Matplotlib method to get current axis\n",
    "    ax = plt.gca()    \n",
    "    # Scatter plot validation or testing points using light colors\n",
    "    ax.scatter(\n",
    "        ..., ..., #TODO! \n",
    "        c=Y_val_test, \n",
    "        cmap=cmap_light, edgecolor='k', s=20, zorder=2\n",
    "    )\n",
    "    # Overlay the training points in bold colors:\n",
    "    ax.scatter(\n",
    "        ..., ..., #TODO! \n",
    "        c=Y_train,\n",
    "        cmap=cmap_bold, edgecolor='k', s=20, zorder=2\n",
    "    )\n",
    "    \n",
    "    plt.xlabel('Sepal length')\n",
    "    plt.ylabel('Sepal width')\n",
    "    return ax\n",
    "\n",
    "def draw_knn_boundaries(\n",
    "    knn,     # Sklearn model\n",
    "    h=0.02,  # Step size in the mesh\n",
    "):\n",
    "    \"\"\"\n",
    "    Draw boundaries as decided by the trained knn\n",
    "    \"\"\"\n",
    "    ax = plt.gca()\n",
    "    [xmin, xmax] = ax.get_xlim()\n",
    "    [ymin, ymax] = ax.get_ylim()\n",
    "    # Generate the axis associated to the first feature: \n",
    "    x_axis = np.arange(xmin, xmax, h)\n",
    "    # Generate the axis associated to the 2nd feature: \n",
    "    y_axis = np.arange(ymin, ymax, h)\n",
    "    # Generate a meshgrid (2D grid) from the 2 axis:\n",
    "    x_grid, y_grid = np.meshgrid(x_axis, y_axis)\n",
    "    # Vectorize the grids into column vectors:\n",
    "    x_grid_vectorized = x_grid.flatten()\n",
    "    x_grid_vectorized = np.expand_dims(x_grid_vectorized, axis=1)\n",
    "    y_grid_vectorized = y_grid.flatten()\n",
    "    y_grid_vectorized = np.expand_dims(y_grid_vectorized, axis=1)\n",
    "    # Concatenate the vectorized grids:\n",
    "    grid = np.concatenate((x_grid_vectorized, y_grid_vectorized), axis=1)\n",
    "    # Now you can use 'grid' as data to classify by the knn \n",
    "\n",
    "    # Predict concatenated features to get the decision boundaries:\n",
    "    decision_boundaries = ... #TODO! \n",
    "\n",
    "    # Reshape the decision boundaries into a 2D matrix:\n",
    "    decision_boundaries = decision_boundaries.reshape(x_grid.shape)\n",
    "    plt.pcolormesh(x_grid, y_grid, decision_boundaries, cmap=cmap_light, zorder=1)\n",
    "    return ax\n",
    "\n",
    "# Main work here:\n",
    "def knn_on_iris(\n",
    "    k,\n",
    "    X_train,\n",
    "    Y_train,\n",
    "    X_val,\n",
    "    Y_val,\n",
    "):\n",
    "    \"\"\"\n",
    "    Train a knn and plot its boundaries on iris data\n",
    "    \"\"\"\n",
    "\n",
    "    # --------------------\n",
    "    # Plot iris data\n",
    "    # --------------------\n",
    "    plot_iris(...) #TODO! \n",
    "\n",
    "    # --------------------\n",
    "    # Train the knn\n",
    "    # --------------------\n",
    "\n",
    "    # Create an instance of the KNeighborsClassifier class for current value of k:\n",
    "    k_NN = ... #TODO!\n",
    "    # Train the classifier with the training data\n",
    "    ... #TODO!\n",
    "\n",
    "    # --------------------\n",
    "    # Draw knn boundaries\n",
    "    # --------------------\n",
    "    draw_knn_boundaries(...) #TODO!\n",
    "    plt.title(\"k-NN classification on Iris, k = \" + str(k_NN.get_params().get(\"n_neighbors\")))\n",
    "    plt.show()\n",
    "\n",
    "    # --------------------\n",
    "    # Model accuracy:\n",
    "    # --------------------\n",
    "\n",
    "    # Accuracy on train set:\n",
    "    train_predictions = ... #TODO!\n",
    "    good_train_predictions = (train_predictions == Y_train)\n",
    "    train_accuracy = np.sum(good_train_predictions) / len(X_train)\n",
    "    # Accuracy on validation set:\n",
    "    val_predictions = ... #TODO!\n",
    "    good_val_predictions = ... #TODO!\n",
    "    val_accuracy = ... #TODO!\n",
    "    return (k_NN, train_accuracy, val_accuracy)\n"
   ]
  },
  {
   "cell_type": "markdown",
   "metadata": {},
   "source": [
    "### Evaluate your $k$-nn"
   ]
  },
  {
   "cell_type": "code",
   "execution_count": null,
   "metadata": {
    "tags": []
   },
   "outputs": [],
   "source": [
    "### k-NN on the Iris dataset for different values of k:\n",
    "# Create vectors to store the results for each k:\n",
    "train_accuracies = []\n",
    "val_accuracies = []\n",
    "\n",
    "# Train a knn for each value of k in k_list\n",
    "k_list = [1, 5, 10, 20, 30, 40, 50, 60, 70]\n",
    "k_NN_models = []\n",
    "for k in k_list:\n",
    "    (k_NN, train_acc, val_acc) = knn_on_iris(k, X_train, Y_train, X_val, Y_val)\n",
    "    print(\"K-nn trained with k = \", k)\n",
    "    print(\"Train accuracy:       \", ... ) #TODO! \n",
    "    print(\"Validation accuracy:  \", ... ) #TODO!\n",
    "    train_accuracies.append(train_acc)\n",
    "    val_accuracies.append(val_acc)\n",
    "    k_NN_models.append(k_NN)\n",
    "\n",
    "# Plot accuracy curves:\n",
    "plt.plot(k_list, train_accuracies)\n",
    "plt.plot(k_list, val_accuracies)\n",
    "plt.ylim(0, 1)\n",
    "plt.xlabel('k')\n",
    "plt.ylabel('Accuracy')\n",
    "plt.legend(['Train', 'Validation'], loc='best')\n",
    "plt.title(\"k-NN accuracy curves on Iris\")\n",
    "\n",
    "# Display plots:\n",
    "plt.show()"
   ]
  },
  {
   "cell_type": "markdown",
   "metadata": {},
   "source": [
    "### Testing your selected model\n",
    "\n",
    "Now that you have trained several models and plot their accuracies, automatically select the best model based on their validation accuracies.\n",
    " \n",
    "Evaluate the performance of your selected model by computing its accuracy on the test dataset."
   ]
  },
  {
   "cell_type": "code",
   "execution_count": null,
   "metadata": {
    "tags": []
   },
   "outputs": [],
   "source": [
    "# Automatically select the best model based on validation accuracies\n",
    "... #TODO!\n",
    "\n",
    "# Evaluate the performance of the selected model\n",
    "... #TODO!\n"
   ]
  }
 ],
 "metadata": {
  "kernelspec": {
   "display_name": "Python 3.8.13 ('nglm-env')",
   "language": "python",
   "name": "python3"
  },
  "language_info": {
   "codemirror_mode": {
    "name": "ipython",
    "version": 3
   },
   "file_extension": ".py",
   "mimetype": "text/x-python",
   "name": "python",
   "nbconvert_exporter": "python",
   "pygments_lexer": "ipython3",
   "version": "3.8.13"
  },
  "vscode": {
   "interpreter": {
    "hash": "71c2cb666ff353b4e7b5c350d66179fa0af5c84ce239ad9fa105d94543f3ad59"
   }
  }
 },
 "nbformat": 4,
 "nbformat_minor": 4
}
