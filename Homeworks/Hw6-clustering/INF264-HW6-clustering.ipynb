{
 "cells": [
  {
   "cell_type": "markdown",
   "metadata": {},
   "source": [
    "# Hierarchical clustering and image segmentation"
   ]
  },
  {
   "cell_type": "code",
   "execution_count": 1,
   "metadata": {},
   "outputs": [],
   "source": [
    "import numpy as np\n",
    "from sklearn.cluster import AgglomerativeClustering\n",
    "from scipy.cluster.hierarchy import dendrogram\n",
    "import matplotlib.pyplot as plt\n",
    "from sklearn.cluster import KMeans\n",
    "from kneed import KneeLocator"
   ]
  },
  {
   "cell_type": "markdown",
   "metadata": {},
   "source": [
    "## Hierarchical clustering\n",
    "\n",
    "Remember that you can find an example of dendogram [here](https://scikit-learn.org/stable/auto_examples/cluster/plot_agglomerative_dendrogram.html)\n",
    "\n",
    "### Loading the dataset 'cities_coordinates.txt'"
   ]
  },
  {
   "cell_type": "code",
   "execution_count": 3,
   "metadata": {},
   "outputs": [],
   "source": [
    "def load_cities(filename=\"cities_coordinates.txt\"):\n",
    "    \"\"\"Return city coordinates (X) and their names (y)\"\"\"\n",
    "    X = []\n",
    "    y = []\n",
    "    with open(filename, 'r') as cities:\n",
    "        for line in cities.readlines():\n",
    "            data = line.split(\",\")\n",
    "            X.append(data[0:-1])\n",
    "            y.append(data[-1].split(\"\\n\")[0])\n",
    "    X = np.array(X).astype(float)\n",
    "    y = np.array(y).astype(str)\n",
    "    return X, y"
   ]
  },
  {
   "cell_type": "markdown",
   "metadata": {},
   "source": [
    "## Image segmentation \n",
    "\n",
    "### Loading the image 'scenery_184_233.txt'"
   ]
  },
  {
   "cell_type": "code",
   "execution_count": null,
   "metadata": {},
   "outputs": [],
   "source": [
    "def load_image(filename=\"scenery_184_233.txt\"):\n",
    "    \"Return the RGB image as a numpy array X of shape (H*W, 3)\"\n",
    "    X = []\n",
    "    with open(filename, 'r') as scenery:\n",
    "        for line in scenery.readlines():\n",
    "            data = line.split()\n",
    "            data = data[0].split(',')\n",
    "            X.append(data)\n",
    "    # Make sure we have the right format:\n",
    "    X = np.array(X).astype(float)\n",
    "    return X\n",
    "\n",
    "def plot_image(X):\n",
    "    \"\"\"\n",
    "    Plot the image represented by X of shape (H*W, 3)\n",
    "    \"\"\"\n",
    "    # Copy of X for visualization purposes (of shape (H, W, 3))\n",
    "    X_vis = np.expand_dims(X, axis=1).reshape(184, 233, 3)\n",
    "    X_vis = np.uint8(X_vis)\n",
    "    \n",
    "    fig, ax = plt.subplots()\n",
    "    ax.axis('off')\n",
    "    ax.imshow(X_vis)\n",
    "    return fig, ax\n",
    "\n",
    "def get_masks(model, X):\n",
    "    \"\"\"\n",
    "    returns masks and segmentation of the image X using a trained model\n",
    "    \"\"\"\n",
    "    clusters = model.predict(X)\n",
    "    mask_representatives = model.cluster_centers_\n",
    "    n_masks = len(mask_representatives)\n",
    "    masks = [np.ones_like(X)*mask_representatives[i] for i in range(n_masks)]\n",
    "    segmentation = np.zeros_like(X)\n",
    "    for i in range(n_masks):\n",
    "        masks[i][clusters != i] = 0\n",
    "        segmentation += masks[i]\n",
    "    return masks, segmentation"
   ]
  }
 ],
 "metadata": {
  "kernelspec": {
   "display_name": "Python 3.8.13 ('nglm-env')",
   "language": "python",
   "name": "python3"
  },
  "language_info": {
   "codemirror_mode": {
    "name": "ipython",
    "version": 3
   },
   "file_extension": ".py",
   "mimetype": "text/x-python",
   "name": "python",
   "nbconvert_exporter": "python",
   "pygments_lexer": "ipython3",
   "version": "3.8.13"
  },
  "vscode": {
   "interpreter": {
    "hash": "71c2cb666ff353b4e7b5c350d66179fa0af5c84ce239ad9fa105d94543f3ad59"
   }
  }
 },
 "nbformat": 4,
 "nbformat_minor": 2
}
