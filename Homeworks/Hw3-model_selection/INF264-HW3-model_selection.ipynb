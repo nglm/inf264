{
 "cells": [
  {
   "cell_type": "markdown",
   "metadata": {},
   "source": [
    "# KFold cross-validation for regression and classification"
   ]
  },
  {
   "cell_type": "code",
   "execution_count": null,
   "metadata": {},
   "outputs": [],
   "source": [
    "import pickle\n",
    "import numpy as np\n",
    "import matplotlib.pyplot as plt\n",
    "import seaborn as sns\n",
    "from sklearn.datasets import make_classification\n",
    "from sklearn.neighbors import KNeighborsClassifier\n",
    "from sklearn.linear_model import LogisticRegression, Ridge\n",
    "from sklearn.tree import DecisionTreeClassifier\n",
    "from sklearn.preprocessing import PolynomialFeatures\n",
    "from sklearn.model_selection import train_test_split, KFold\n",
    "from sklearn.metrics import mean_squared_error, f1_score, accuracy_score, confusion_matrix"
   ]
  },
  {
   "cell_type": "markdown",
   "metadata": {},
   "source": [
    "## Exercise 1: Model selection for regression"
   ]
  },
  {
   "cell_type": "code",
   "execution_count": null,
   "metadata": {},
   "outputs": [],
   "source": [
    "def KFold_split(X, Y, num_folds, seed=264):\n",
    "    \"\"\"\n",
    "    Split and shuffle X and Y into k=num_folds different folds:\n",
    "    \"\"\"\n",
    "    KFold_splitter = KFold(n_splits=num_folds, shuffle=True, random_state=seed)\n",
    "    X_train_folds = []\n",
    "    X_val_folds = []\n",
    "    Y_train_folds = []\n",
    "    Y_val_folds = []\n",
    "    for (kth_fold_train_idxs, kth_fold_val_idxs) in KFold_splitter.split(X, Y):\n",
    "        X_train_folds.append(X[kth_fold_train_idxs])\n",
    "        X_val_folds.append(...)    #TODO!\n",
    "        Y_train_folds.append(...)  #TODO!\n",
    "        Y_val_folds.append(...)    #TODO!\n",
    "    return X_train_folds, X_val_folds, Y_train_folds, Y_val_folds"
   ]
  },
  {
   "cell_type": "markdown",
   "metadata": {},
   "source": [
    "## Exercise 2.1: Choosing the right metrics when dealing with unbalanced data"
   ]
  },
  {
   "cell_type": "code",
   "execution_count": null,
   "metadata": {},
   "outputs": [],
   "source": [
    "def generate_binary_dataset(ratio, n_samples=10000, seed=264):\n",
    "    \"\"\" Generate a binary dataset, \"ratio\" defining the ratio between classes\"\"\"\n",
    "    X, Y = make_classification(\n",
    "        n_samples=n_samples,\n",
    "        n_classes=2,\n",
    "        n_features=2,\n",
    "        n_redundant=0,\n",
    "        n_repeated=0,\n",
    "        weights=[ratio],\n",
    "        flip_y=0,\n",
    "        random_state=seed\n",
    "    )\n",
    "    return X, Y\n",
    "\n",
    "def plot_confusion_matrix(confusion_matrix, ax=None):\n",
    "    sns.heatmap(\n",
    "        data=confusion_matrix.round(2), annot=True, fmt='d',\n",
    "        cmap=sns.color_palette(\"RdBu_r\", 1000), ax=ax\n",
    "    )\n",
    "    plt.title(\"Confusion matrix\")\n",
    "    plt.tight_layout()\n",
    "\n",
    "def plot_scores(ratios, test_accs, test_f1_scores):\n",
    "    fig, ax = plt.subplots(tight_layout=True)\n",
    "    ax.plot(ratios, test_accs, label=\"Test accuracy\")\n",
    "    ax.plot(ratios, test_f1_scores, label=\"Test f1 scores\")\n",
    "    ax.set_xlabel(\"Ratio of 1st class instances\")\n",
    "    ax.set_ylabel(\"Score\")\n",
    "    fig.suptitle(\"Comparison of accuracy and f1 score metrics on imbalanced datasets\")\n",
    "    fig.legend()\n",
    "    plt.show()\n",
    "    return fig, ax"
   ]
  },
  {
   "cell_type": "markdown",
   "metadata": {},
   "source": [
    "## Exercise 2.2: Kfold cross-validation for classification on unbalanced data"
   ]
  },
  {
   "cell_type": "code",
   "execution_count": null,
   "metadata": {},
   "outputs": [],
   "source": [
    "def load_custom_unbalanced_dataset(filename='custom_unbalanced_dataset.pickle'):\n",
    "    \"\"\"Load an unbalanced binary dataset\"\"\"\n",
    "    with open('custom_unbalanced_dataset.pickle', 'rb') as unbalanced_dataset:\n",
    "        X, Y = pickle.load(unbalanced_dataset)\n",
    "    return X, Y"
   ]
  }
 ],
 "metadata": {
  "kernelspec": {
   "display_name": "Python 2",
   "language": "python",
   "name": "python2"
  },
  "language_info": {
   "codemirror_mode": {
    "name": "ipython",
    "version": 3
   },
   "file_extension": ".py",
   "mimetype": "text/x-python",
   "name": "python",
   "nbconvert_exporter": "python",
   "pygments_lexer": "ipython3",
   "version": "3.6.9"
  }
 },
 "nbformat": 4,
 "nbformat_minor": 2
}
